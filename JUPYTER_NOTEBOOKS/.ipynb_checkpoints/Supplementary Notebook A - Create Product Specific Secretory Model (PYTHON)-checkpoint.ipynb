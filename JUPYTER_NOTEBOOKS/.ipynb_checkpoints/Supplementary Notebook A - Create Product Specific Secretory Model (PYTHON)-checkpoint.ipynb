{
 "cells": [
  {
   "cell_type": "markdown",
   "metadata": {},
   "source": [
    "# Jupyter Notebook A\n",
    "### Description\n",
    "This notebook creates a product specific iCHO2048s, RECON2s, or iMM1685s model by adding the necessary lists of reactions, Gene-Protein-Reactions (GPRs), and reaction names.\n",
    "\n",
    "### INPUT  \n",
    "\n",
    "**Option A** (use it for proteins in PSIM) - A Uniprot ID from the PSIM file (CHO,Human, or Mouse) found in the **iCHO2048s_python**, **RECON2s_python**, or **iMM1685s_python** folder\n",
    "    - EXAMPLE: entryID = 'G3HGQ6' (CHO)\n",
    "    \n",
    "**Option B** (use it for proteins not in PSIM) - A Protein-Specific Information Vector (python list) with the following entries:\n",
    "    - Protein name (e.g. 'tPA' or 'EPO') \n",
    "    - Protein sequence \n",
    "    - Molecular weight (in Daltons)\n",
    "    - Presence of Signal peptide (0 if absent, 1 if present)\n",
    "    - Number of disulfide bonds\n",
    "    - Presence of GPI anchor (0 if absent, 1 if present)\n",
    "    - Number of N-linked glycans\n",
    "    - Number of O-linked glycans\n",
    "    - Location ([c] = cytoplasm, [m] = mitochondria, [pm] = plasma membrane, [r] = ER, [g] = Golgi, [n] = Nucleus, [l] = lysosome, [x] = peroxisome, [e] = extracellular protein (secreted))\n",
    "    - EXAMPLE: PSIV = ['MyProtein','MAHFRTEYPNVCWQGED',100.0,'1','2','0','4','6','[e]']\n",
    "    \n",
    "### OUTPUT \n",
    "\n",
    "    - SBML file of secretory model\n",
    "    - Matlab file of secretory model\n",
    "\n",
    "## REQUIREMENTS\n",
    "\n",
    "* Python >= 3.4\n",
    "* Cobrapy >= 0.13.3"
   ]
  },
  {
   "cell_type": "code",
   "execution_count": 1,
   "metadata": {},
   "outputs": [],
   "source": [
    "# Load Cobrapy package for building model\n",
    "import cobra"
   ]
  },
  {
   "cell_type": "markdown",
   "metadata": {},
   "source": [
    "# Create iCHO2048s reactions"
   ]
  },
  {
   "cell_type": "code",
   "execution_count": 2,
   "metadata": {},
   "outputs": [],
   "source": [
    "# Load iCHO2048s_Builder package\n",
    "import os\n",
    "location = os.getcwd()\n",
    "os.chdir('iCHO2048s_python/')\n",
    "import iCHO2048s_Builder\n",
    "os.chdir(location)\n",
    "os.chdir('iCHO2048s_matlab/')\n",
    "target_location = os.getcwd()\n",
    "os.chdir(location)"
   ]
  },
  {
   "cell_type": "code",
   "execution_count": 3,
   "metadata": {},
   "outputs": [],
   "source": [
    "# Load CHO metabolic model\n",
    "model = cobra.io.load_matlab_model('iCHO2048s_matlab/iCHOv1.mat')"
   ]
  },
  {
   "cell_type": "markdown",
   "metadata": {},
   "source": [
    "### Generate secretory model for a CHO protein (Option A)"
   ]
  },
  {
   "cell_type": "code",
   "execution_count": 7,
   "metadata": {
    "scrolled": true
   },
   "outputs": [
    {
     "name": "stdout",
     "output_type": "stream",
     "text": [
      "unknown metabolite 'G3HGQ6[c]' created\n",
      "unknown metabolite 'SRP[c]' created\n",
      "unknown metabolite 'G3HGQ6-SRP[c]' created\n",
      "unknown metabolite 'SRPR[r]' created\n",
      "unknown metabolite 'RRBP1[r]' created\n",
      "unknown metabolite 'G3HGQ6-SRP-SRPR-RRBP1[c]' created\n",
      "unknown metabolite 'SEC61C[r]' created\n",
      "unknown metabolite 'G3HGQ6-SRP-SRPR-SEC61C[c]' created\n",
      "unknown metabolite 'G3HGQ6-SEC61C[c]' created\n",
      "unknown metabolite 'SRP14[c]' created\n",
      "unknown metabolite 'SRP19[c]' created\n",
      "unknown metabolite 'SRP54[c]' created\n",
      "unknown metabolite 'SRP68[c]' created\n",
      "unknown metabolite 'SRP72[c]' created\n",
      "unknown metabolite 'SRPRA[r]' created\n",
      "unknown metabolite 'SRPRB[r]' created\n",
      "unknown metabolite 'SPC[r]' created\n",
      "unknown metabolite 'G3HGQ6-SEC61-SPC[r]' created\n",
      "unknown metabolite 'G3HGQ6-sp[r]' created\n",
      "unknown metabolite 'SEC62[r]' created\n",
      "unknown metabolite 'SEC63[r]' created\n",
      "unknown metabolite 'TRAM1[r]' created\n",
      "unknown metabolite 'TRAP[r]' created\n",
      "unknown metabolite 'DNAJC1[r]' created\n",
      "unknown metabolite 'SERP1[r]' created\n",
      "unknown metabolite 'BiP-adp[r]' created\n",
      "unknown metabolite 'G3HGQ6-BiP-adp[r]' created\n",
      "unknown metabolite 'Translocase[r]' created\n",
      "unknown metabolite 'G3HGQ6[r]' created\n",
      "unknown metabolite 'BiP-atp[r]' created\n",
      "unknown metabolite 'G3HGQ6_preDSB[r]' created\n",
      "unknown metabolite 'P4HB-ox[r]' created\n",
      "unknown metabolite 'G3HGQ6-ds-P4HB-ox[r]' created\n",
      "unknown metabolite 'G3HGQ6_DSB[r]' created\n",
      "unknown metabolite 'P4HB[r]' created\n",
      "unknown metabolite 'LMAN1L[r]' created\n",
      "unknown metabolite 'G3HGQ6-LMAN1L[r]' created\n",
      "unknown metabolite 'SEC23A[c]' created\n",
      "unknown metabolite 'SEC24A[c]' created\n",
      "unknown metabolite 'SEC13[c]' created\n",
      "unknown metabolite 'SEC31A[c]' created\n",
      "unknown metabolite 'BET1[c]' created\n",
      "unknown metabolite 'SEC22B[c]' created\n",
      "unknown metabolite 'SAR1B-gtp[c]' created\n",
      "unknown metabolite 'RAB1A-gtp[c]' created\n",
      "unknown metabolite 'SEC16[c]' created\n",
      "unknown metabolite 'G3HGQ6-COPII-coated[c]' created\n",
      "unknown metabolite 'G3HGQ6-COPII-uncoated[c]' created\n",
      "unknown metabolite 'SAR1B-gdp[c]' created\n",
      "unknown metabolite 'GOSR1[c]' created\n",
      "unknown metabolite 'STX5[c]' created\n",
      "unknown metabolite 'G3HGQ6[g]' created\n",
      "unknown metabolite 'RAB1A-gdp[c]' created\n",
      "unknown metabolite 'BET1-SEC22B-GOSR1-STX5[c]' created\n",
      "unknown metabolite 'G3HGQ6-preSV[g]' created\n",
      "unknown metabolite 'ARF1-gtp[c]' created\n",
      "unknown metabolite 'CLTA[c]' created\n",
      "unknown metabolite 'CLTB[c]' created\n",
      "unknown metabolite 'CLTC[c]' created\n",
      "unknown metabolite 'AP1B1[c]' created\n",
      "unknown metabolite 'AP1M1[c]' created\n",
      "unknown metabolite 'AP1S1[c]' created\n",
      "unknown metabolite 'AP1S2[c]' created\n",
      "unknown metabolite 'AP1G1[c]' created\n",
      "unknown metabolite 'AP3D1[c]' created\n",
      "unknown metabolite 'AP3M1[c]' created\n",
      "unknown metabolite 'AP3M2[c]' created\n",
      "unknown metabolite 'AP3B2[c]' created\n",
      "unknown metabolite 'AP3S2[c]' created\n",
      "unknown metabolite 'STX1B[c]' created\n",
      "unknown metabolite 'STX4[c]' created\n",
      "unknown metabolite 'RAB8B-gtp[c]' created\n",
      "unknown metabolite 'EXOCYST[c]' created\n",
      "unknown metabolite 'G3HGQ6-AP-coated[c]' created\n",
      "unknown metabolite 'STX19[c]' created\n",
      "unknown metabolite 'STX11[c]' created\n",
      "unknown metabolite 'STX16[c]' created\n",
      "unknown metabolite 'G3HGQ6_mature[sv]' created\n",
      "unknown metabolite 'ARF1-gdp[c]' created\n",
      "unknown metabolite 'STX1B-4-11-16-19[c]' created\n",
      "unknown metabolite 'RAB8B-gdp[c]' created\n",
      "unknown metabolite 'G3HGQ6_mature[e]' created\n",
      "unknown metabolite 'SEC61A1[r]' created\n",
      "unknown metabolite 'SEC61B[r]' created\n",
      "unknown metabolite 'SEC61G[r]' created\n",
      "unknown metabolite 'SSR1[r]' created\n",
      "unknown metabolite 'SSR2[r]' created\n",
      "unknown metabolite 'SSR3[r]' created\n",
      "unknown metabolite 'SSR4[r]' created\n",
      "unknown metabolite 'ARF1[c]' created\n",
      "unknown metabolite 'SAR1B[c]' created\n",
      "unknown metabolite 'RAB1A[c]' created\n",
      "unknown metabolite 'RAB6B[c]' created\n",
      "unknown metabolite 'RAB6B-gdp[c]' created\n",
      "unknown metabolite 'RAB8B[c]' created\n",
      "unknown metabolite 'RAB6B-gtp[c]' created\n",
      "unknown metabolite 'BiP[r]' created\n",
      "unknown metabolite 'STX6-7-12[c]' created\n",
      "unknown metabolite 'NSF[c]' created\n",
      "unknown metabolite 'NAPA[c]' created\n",
      "unknown metabolite 'NSF(6)NAPA[c]' created\n",
      "unknown metabolite 'STX6[c]' created\n",
      "unknown metabolite 'STX7[c]' created\n",
      "unknown metabolite 'STX12[c]' created\n",
      "unknown metabolite 'BET1-SEC22B-USE1-STX8-STX18[c]' created\n",
      "unknown metabolite 'USE1[c]' created\n",
      "unknown metabolite 'STX8[c]' created\n",
      "unknown metabolite 'STX18[c]' created\n",
      "unknown metabolite 'NPLOC4[c]' created\n",
      "unknown metabolite 'UFD1L[c]' created\n",
      "unknown metabolite 'VCP[c]' created\n",
      "unknown metabolite 'DERL1[r]' created\n",
      "unknown metabolite 'VIMP[c]' created\n",
      "unknown metabolite 'DERL3[r]' created\n",
      "unknown metabolite 'BCAP31[r]' created\n",
      "unknown metabolite 'retroTranslocase[c]' created\n",
      "unknown metabolite 'PROTA[c]' created\n",
      "unknown metabolite 'PROTB[c]' created\n",
      "unknown metabolite 'PROASCHAP1[c]' created\n",
      "unknown metabolite 'PROASCHAP2[c]' created\n",
      "unknown metabolite 'PROASCHAP3[c]' created\n",
      "unknown metabolite 'PROASCHAP4[c]' created\n",
      "unknown metabolite 'PROTREG1[c]' created\n",
      "unknown metabolite 'PROTREG2[c]' created\n",
      "unknown metabolite 'PROTREG3[c]' created\n",
      "unknown metabolite 'PROTREG5[c]' created\n",
      "unknown metabolite 'PROTREG6[c]' created\n",
      "unknown metabolite 'PROTREG7[c]' created\n",
      "unknown metabolite 'PROTREG8[c]' created\n",
      "unknown metabolite 'PROTREG9[c]' created\n",
      "unknown metabolite 'PROTREG10[c]' created\n",
      "unknown metabolite 'PROTREG11[c]' created\n",
      "unknown metabolite 'PROTREG12[c]' created\n",
      "unknown metabolite 'PROTREG13[c]' created\n",
      "unknown metabolite 'PROTREG14[c]' created\n",
      "unknown metabolite 'Proteasome[c]' created\n",
      "unknown metabolite 'ASNA1-adp[c]' created\n",
      "unknown metabolite 'ASNA1-atp[c]' created\n",
      "unknown metabolite 'ASNA1[c]' created\n",
      "unknown metabolite 'CALR[r]' created\n",
      "unknown metabolite 'CALR-ca2[r]' created\n",
      "unknown metabolite 'gthox[r]' created\n",
      "unknown metabolite 'ERO1LB-ox[r]' created\n",
      "unknown metabolite 'ERO1LB[r]' created\n",
      "unknown metabolite 'ERO1A[r]' created\n",
      "unknown metabolite 'ERO1A-ox[r]' created\n",
      "unknown metabolite 'EXOC1[c]' created\n",
      "unknown metabolite 'EXOC2[c]' created\n",
      "unknown metabolite 'EXOC3[c]' created\n",
      "unknown metabolite 'EXOC4[c]' created\n",
      "unknown metabolite 'EXOC5[c]' created\n",
      "unknown metabolite 'EXOC6B[c]' created\n",
      "unknown metabolite 'EXOC7[c]' created\n",
      "unknown metabolite 'EXOC8[c]' created\n",
      "unknown metabolite 'SPCS1[r]' created\n",
      "unknown metabolite 'SPCS2[r]' created\n",
      "unknown metabolite 'SPCS3[r]' created\n",
      "unknown metabolite 'SEC11A[r]' created\n",
      "unknown metabolite 'SEC11C[r]' created\n",
      "unknown metabolite 'DDOST[r]' created\n",
      "unknown metabolite 'RPN1[r]' created\n",
      "unknown metabolite 'RPN2[r]' created\n",
      "unknown metabolite 'DAD1[r]' created\n",
      "unknown metabolite 'STT3A[r]' created\n",
      "unknown metabolite 'STT3B[r]' created\n",
      "unknown metabolite 'OST[r]' created\n"
     ]
    }
   ],
   "source": [
    "# Fill in the Uniprot ID of your protein here\n",
    "# Example: entryID = 'G3HGQ6'\n",
    "entryID = 'G3HGQ6'\n",
    "# Generate lists for reactions (rxns), reaction names (rxnNames), and Gene-Protein-Reactions (GPRs)\n",
    "[rxns, rxnNames, GPRs] = iCHO2048s_Builder.generateProteinSpecificRxns_A(entryID)\n",
    "\n",
    "# Initialize new model\n",
    "secretory_model = model.copy()\n",
    "\n",
    "# Add new reactions to metabolic model\n",
    "for i in range(len(rxns)):\n",
    "    # Create place holder for creating reactions\n",
    "    r = secretory_model.reactions[0].copy()\n",
    "    r.name = rxnNames[i]\n",
    "    r.id = rxnNames[i]\n",
    "    r.gene_reaction_rule = GPRs[i]\n",
    "    secretory_model.add_reaction(r)\n",
    "    r.build_reaction_from_string(reaction_str=rxns[i],rev_arrow='<-',fwd_arrow='->',reversible_arrow='<=>')"
   ]
  },
  {
   "cell_type": "code",
   "execution_count": 7,
   "metadata": {},
   "outputs": [],
   "source": [
    "# Save the model\n",
    "cobra.io.save_matlab_model(secretory_model,'iCHO2048s_'+entryID+'.mat')\n",
    "cobra.io.write_sbml_model(secretory_model,'iCHO2048s_'+entryID+'.xml')"
   ]
  },
  {
   "cell_type": "code",
   "execution_count": 6,
   "metadata": {},
   "outputs": [],
   "source": [
    "secretory_model = cobra.io.load_matlab_model('iCHO2048s_G3HGQ6.mat')"
   ]
  },
  {
   "cell_type": "code",
   "execution_count": 9,
   "metadata": {},
   "outputs": [],
   "source": [
    "# Set the objective to secretion of target protein\n",
    "secretory_model.objective = entryID + '_Final_demand'"
   ]
  },
  {
   "cell_type": "code",
   "execution_count": 13,
   "metadata": {},
   "outputs": [
    {
     "data": {
      "text/plain": [
       "0.00022527472"
      ]
     },
     "execution_count": 13,
     "metadata": {},
     "output_type": "execute_result"
    }
   ],
   "source": [
    "secretory_model.slim_optimize() # mmol of target protein/gDW/h"
   ]
  },
  {
   "cell_type": "code",
   "execution_count": 16,
   "metadata": {},
   "outputs": [],
   "source": [
    "import matplotlib.pyplot as plt"
   ]
  },
  {
   "cell_type": "code",
   "execution_count": 20,
   "metadata": {},
   "outputs": [
    {
     "data": {
      "text/plain": [
       "Text(0.5,1,'Productivity-for-growth trade-off')"
      ]
     },
     "execution_count": 20,
     "metadata": {},
     "output_type": "execute_result"
    },
    {
     "data": {
      "image/png": "[encoded data removed]",
      "text/plain": [
       "<Figure size 432x288 with 1 Axes>"
      ]
     },
     "metadata": {
      "needs_background": "light"
     },
     "output_type": "display_data"
    }
   ],
   "source": [
    "# Plot Pareto frontier of secretion-for-growth trade-off\n",
    "secretory_model.objective = 'biomass_cho_producing'\n",
    "max_growth = secretory_model.slim_optimize()\n",
    "secretory_model.objective = entryID + '_Final_demand'\n",
    "steps = 50\n",
    "x = [max_growth/steps * i for i in range(steps)]\n",
    "y = [0] * len(x)\n",
    "for n in range(steps):\n",
    "    mu_constraint = x[n]\n",
    "    secretory_model.reactions.get_by_id('biomass_cho_producing').lower_bound = mu_constraint\n",
    "    y[n] = secretory_model.slim_optimize()\n",
    "plt.plot(x,y,linewidth=3,label=entryID)\n",
    "plt.legend()\n",
    "plt.xlabel('$\\mu$ [1/h]')\n",
    "plt.ylabel('qP [mmol/gDW/h]')\n",
    "plt.title('Productivity-for-growth trade-off')"
   ]
  },
  {
   "cell_type": "markdown",
   "metadata": {},
   "source": [
    "### Generate secretory reactions for a non-CHO protein (Option B)"
   ]
  },
  {
   "cell_type": "code",
   "execution_count": null,
   "metadata": {
    "collapsed": true
   },
   "outputs": [],
   "source": [
    "## Fill in the PSIV of your protein here ##\n",
    "# The format must be PSIV = [Name, Sequence, MW, SP, DSB, GPI, NG, OG, Location]\n",
    "# Example: PSIV = ['MyProtein','MAHFRTEYPNVCWQGED',100.0,'1','0','0','0','0','[e]']\n",
    "PSIV = ['']\n",
    "\n",
    "# Generate lists for reactions (rxns), reaction names (rxnNames), and Gene-Protein-Reactions (GPRs)\n",
    "[rxns, rxnNames, GPRs] = iCHO2048s_Builder.generateProteinSpecificRxns_B(PSIV)\n",
    "\n",
    "# Initialize new model\n",
    "secretory_model = model.copy()\n",
    "\n",
    "# Add new reactions to metabolic model\n",
    "for i in range(len(rxns)):\n",
    "    # Create place holder for creating reactions\n",
    "    r = secretory_model.reactions[0].copy()\n",
    "    r.name = rxnNames[i]\n",
    "    r.id = rxnNames[i]\n",
    "    r.gene_reaction_rule = GPRs[i]\n",
    "    secretory_model.add_reaction(r)\n",
    "    r.build_reaction_from_string(reaction_str=rxns[i],rev_arrow='<-',fwd_arrow='->',reversible_arrow='<=>')"
   ]
  },
  {
   "cell_type": "code",
   "execution_count": null,
   "metadata": {},
   "outputs": [],
   "source": [
    "# Save the model\n",
    "cobra.io.save_matlab_model(secretory_model,'iCHO2048s_'+entryID+'.mat')\n",
    "cobra.io.write_sbml_model(secretory_model,'iCHO2048s_'+entryID+'.xml')"
   ]
  },
  {
   "cell_type": "markdown",
   "metadata": {},
   "source": [
    "# Create RECON2s reactions"
   ]
  },
  {
   "cell_type": "code",
   "execution_count": null,
   "metadata": {},
   "outputs": [],
   "source": [
    "# Load Human metabolic model\n",
    "model = cobra.io.load_matlab_model('RECON2s_matlab/RECON2_2.mat')"
   ]
  },
  {
   "cell_type": "code",
   "execution_count": 1,
   "metadata": {
    "collapsed": true
   },
   "outputs": [],
   "source": [
    "# Load RECON2s_Builder package\n",
    "import os\n",
    "location = os.getcwd()\n",
    "os.chdir('RECON2s_python/')\n",
    "import RECON2s_Builder\n",
    "os.chdir(location)\n",
    "os.chdir('RECON2s_matlab/')\n",
    "target_location = os.getcwd()\n",
    "os.chdir(location)"
   ]
  },
  {
   "cell_type": "markdown",
   "metadata": {},
   "source": [
    "### Generate secretory reactions for a HUMAN protein (Option A)"
   ]
  },
  {
   "cell_type": "code",
   "execution_count": null,
   "metadata": {
    "collapsed": true
   },
   "outputs": [],
   "source": [
    "# Fill in the Uniprot ID of your protein here\n",
    "# Example: entryID = 'P31946'\n",
    "entryID = ''\n",
    "# Generate lists for reactions (rxns), reaction names (rxnNames), and Gene-Protein-Reactions (GPRs)\n",
    "[rxns, rxnNames, GPRs] = RECON2s_Builder.generateProteinSpecificRxns_A(entryID)\n",
    "\n",
    "# Initialize new model\n",
    "secretory_model = model.copy()\n",
    "\n",
    "# Add new reactions to metabolic model\n",
    "for i in range(len(rxns)):\n",
    "    # Create place holder for creating reactions\n",
    "    r = secretory_model.reactions[0].copy()\n",
    "    r.name = rxnNames[i]\n",
    "    r.id = rxnNames[i]\n",
    "    r.gene_reaction_rule = GPRs[i]\n",
    "    secretory_model.add_reaction(r)\n",
    "    r.build_reaction_from_string(reaction_str=rxns[i],rev_arrow='<-',fwd_arrow='->',reversible_arrow='<=>')"
   ]
  },
  {
   "cell_type": "markdown",
   "metadata": {},
   "source": [
    "### Generate secretory reactions for a non-HUMAN protein (Option B)"
   ]
  },
  {
   "cell_type": "code",
   "execution_count": null,
   "metadata": {
    "collapsed": true
   },
   "outputs": [],
   "source": [
    "## Fill in the PSIV of your protein here ##\n",
    "# The format must be PSIV = [Name, Sequence, MW, SP, DSB, GPI, NG, OG, Location]\n",
    "# Example: PSIV = ['MyProtein','MAHFRTEYPNVCWQGED',100.0,'1','0','0','0','0','[e]']\n",
    "##PSIV = []\n",
    "\n",
    "# Generate lists for reactions (rxns), reaction names (rxnNames), and Gene-Protein-Reactions (GPRs)\n",
    "[rxns, rxnNames, GPRs] = RECON2s_Builder.generateProteinSpecificRxns_B(PSIV)\n",
    "\n",
    "# Initialize new model\n",
    "secretory_model = model.copy()\n",
    "\n",
    "# Add new reactions to metabolic model\n",
    "for i in range(len(rxns)):\n",
    "    # Create place holder for creating reactions\n",
    "    r = secretory_model.reactions[0].copy()\n",
    "    r.name = rxnNames[i]\n",
    "    r.id = rxnNames[i]\n",
    "    r.gene_reaction_rule = GPRs[i]\n",
    "    secretory_model.add_reaction(r)\n",
    "    r.build_reaction_from_string(reaction_str=rxns[i],rev_arrow='<-',fwd_arrow='->',reversible_arrow='<=>')"
   ]
  },
  {
   "cell_type": "markdown",
   "metadata": {},
   "source": [
    "# Create iMM1685s reactions"
   ]
  },
  {
   "cell_type": "code",
   "execution_count": null,
   "metadata": {},
   "outputs": [],
   "source": [
    "# Load Human metabolic model\n",
    "model = cobra.io.load_matlab_model('iMM1685s_matlab/iMM1415.mat')"
   ]
  },
  {
   "cell_type": "code",
   "execution_count": null,
   "metadata": {
    "collapsed": true
   },
   "outputs": [],
   "source": [
    "# Load iMM1685s_Builder package\n",
    "import os\n",
    "location = os.getcwd()\n",
    "os.chdir('iMM1685s_python/')\n",
    "import iMM1685s_Builder\n",
    "os.chdir(location)\n",
    "os.chdir('iMM1685s_matlab/')\n",
    "target_location = os.getcwd()\n",
    "os.chdir(location)"
   ]
  },
  {
   "cell_type": "markdown",
   "metadata": {},
   "source": [
    "### Generate secretory reactions for a MOUSE protein (Option A)"
   ]
  },
  {
   "cell_type": "code",
   "execution_count": null,
   "metadata": {
    "collapsed": true
   },
   "outputs": [],
   "source": [
    "# Fill in the Uniprot ID of your protein here\n",
    "# Example: entryID = 'P31946'\n",
    "entryID = ''\n",
    "# Generate lists for reactions (rxns), reaction names (rxnNames), and Gene-Protein-Reactions (GPRs)\n",
    "[rxns, rxnNames, GPRs] = iMM1685s_Builder.generateProteinSpecificRxns_A(entryID)\n",
    "\n",
    "# Initialize new model\n",
    "secretory_model = model.copy()\n",
    "\n",
    "# Add new reactions to metabolic model\n",
    "for i in range(len(rxns)):\n",
    "    # Create place holder for creating reactions\n",
    "    r = secretory_model.reactions[0].copy()\n",
    "    r.name = rxnNames[i]\n",
    "    r.id = rxnNames[i]\n",
    "    r.gene_reaction_rule = GPRs[i]\n",
    "    secretory_model.add_reaction(r)\n",
    "    r.build_reaction_from_string(reaction_str=rxns[i],rev_arrow='<-',fwd_arrow='->',reversible_arrow='<=>')"
   ]
  },
  {
   "cell_type": "markdown",
   "metadata": {},
   "source": [
    "### Generate secretory reactions for a non-MOUSE protein (Option B)"
   ]
  },
  {
   "cell_type": "code",
   "execution_count": null,
   "metadata": {
    "collapsed": true
   },
   "outputs": [],
   "source": [
    "## Fill in the PSIV of your protein here ##\n",
    "# The format must be PSIV = [Name, Sequence, MW, SP, DSB, GPI, NG, OG, Location]\n",
    "# Example: PSIV = ['MyProtein','MAHFRTEYPNVCWQGED',100.0,'1','0','0','0','0','[e]']\n",
    "##PSIV = []\n",
    "\n",
    "# Generate lists for reactions (rxns), reaction names (rxnNames), and Gene-Protein-Reactions (GPRs)\n",
    "[rxns, rxnNames, GPRs] = iMM1685s_Builder.generateProteinSpecificRxns_B(PSIV)\n",
    "\n",
    "# Initialize new model\n",
    "secretory_model = model.copy()\n",
    "\n",
    "# Add new reactions to metabolic model\n",
    "for i in range(len(rxns)):\n",
    "    # Create place holder for creating reactions\n",
    "    r = secretory_model.reactions[0].copy()\n",
    "    r.name = rxnNames[i]\n",
    "    r.id = rxnNames[i]\n",
    "    r.gene_reaction_rule = GPRs[i]\n",
    "    secretory_model.add_reaction(r)\n",
    "    r.build_reaction_from_string(reaction_str=rxns[i],rev_arrow='<-',fwd_arrow='->',reversible_arrow='<=>')"
   ]
  }
 ],
 "metadata": {
  "kernelspec": {
   "display_name": "Python 3",
   "language": "python",
   "name": "python3"
  },
  "language_info": {
   "codemirror_mode": {
    "name": "ipython",
    "version": 3
   },
   "file_extension": ".py",
   "mimetype": "text/x-python",
   "name": "python",
   "nbconvert_exporter": "python",
   "pygments_lexer": "ipython3",
   "version": "3.6.6"
  }
 },
 "nbformat": 4,
 "nbformat_minor": 2
}
